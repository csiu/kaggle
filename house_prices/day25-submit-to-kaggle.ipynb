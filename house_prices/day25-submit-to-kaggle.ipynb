{
 "cells": [
  {
   "cell_type": "markdown",
   "metadata": {},
   "source": [
    "DAY 25 -- Mar 21, 2017"
   ]
  },
  {
   "cell_type": "code",
   "execution_count": 1,
   "metadata": {
    "collapsed": true
   },
   "outputs": [],
   "source": [
    "import pandas as pd\n",
    "import matplotlib.pyplot as plt\n",
    "import seaborn as sns\n",
    "import os\n",
    "\n",
    "%matplotlib inline"
   ]
  },
  {
   "cell_type": "code",
   "execution_count": 2,
   "metadata": {
    "collapsed": true
   },
   "outputs": [],
   "source": [
    "from sklearn.linear_model import LinearRegression\n",
    "from sklearn.model_selection import cross_val_score"
   ]
  },
  {
   "cell_type": "code",
   "execution_count": 3,
   "metadata": {
    "collapsed": false
   },
   "outputs": [],
   "source": [
    "input_dir = \"./data/\"\n",
    "\n",
    "# Load my data\n",
    "train_file = os.path.join(input_dir, \"train.csv\")\n",
    "test_file = os.path.join(input_dir, \"test.csv\")\n",
    "\n",
    "train = pd.read_csv(train_file)\n",
    "test = pd.read_csv(test_file)"
   ]
  },
  {
   "cell_type": "code",
   "execution_count": 4,
   "metadata": {
    "collapsed": false
   },
   "outputs": [],
   "source": [
    "y = train[[\"SalePrice\"]]\n",
    "X = train.drop([\"SalePrice\", \"Id\"], axis=1)"
   ]
  },
  {
   "cell_type": "markdown",
   "metadata": {},
   "source": [
    "### Features"
   ]
  },
  {
   "cell_type": "code",
   "execution_count": 5,
   "metadata": {
    "collapsed": false
   },
   "outputs": [
    {
     "name": "stdout",
     "output_type": "stream",
     "text": [
      "(1460, 79)\n"
     ]
    }
   ],
   "source": [
    "# Number of features\n",
    "print(X.shape)"
   ]
  },
  {
   "cell_type": "code",
   "execution_count": 6,
   "metadata": {
    "collapsed": false,
    "scrolled": true
   },
   "outputs": [
    {
     "name": "stdout",
     "output_type": "stream",
     "text": [
      "Number of categorical features: 43 \n",
      "\n",
      "MSZoning:\t ['RL' 'RM' 'C (all)' 'FV' 'RH']\n",
      "Street:\t ['Pave' 'Grvl']\n",
      "Alley:\t [nan 'Grvl' 'Pave']\n",
      "LotShape:\t ['Reg' 'IR1' 'IR2' 'IR3']\n",
      "LandContour:\t ['Lvl' 'Bnk' 'Low' 'HLS']\n",
      "Utilities:\t ['AllPub' 'NoSeWa']\n",
      "LotConfig:\t ['Inside' 'FR2' 'Corner' 'CulDSac' 'FR3']\n",
      "LandSlope:\t ['Gtl' 'Mod' 'Sev']\n",
      "Neighborhood:\t ['CollgCr' 'Veenker' 'Crawfor' 'NoRidge' 'Mitchel' 'Somerst' 'NWAmes'\n",
      " 'OldTown' 'BrkSide' 'Sawyer' 'NridgHt' 'NAmes' 'SawyerW' 'IDOTRR'\n",
      " 'MeadowV' 'Edwards' 'Timber' 'Gilbert' 'StoneBr' 'ClearCr' 'NPkVill'\n",
      " 'Blmngtn' 'BrDale' 'SWISU' 'Blueste']\n",
      "Condition1:\t ['Norm' 'Feedr' 'PosN' 'Artery' 'RRAe' 'RRNn' 'RRAn' 'PosA' 'RRNe']\n",
      "Condition2:\t ['Norm' 'Artery' 'RRNn' 'Feedr' 'PosN' 'PosA' 'RRAn' 'RRAe']\n",
      "BldgType:\t ['1Fam' '2fmCon' 'Duplex' 'TwnhsE' 'Twnhs']\n",
      "HouseStyle:\t ['2Story' '1Story' '1.5Fin' '1.5Unf' 'SFoyer' 'SLvl' '2.5Unf' '2.5Fin']\n",
      "RoofStyle:\t ['Gable' 'Hip' 'Gambrel' 'Mansard' 'Flat' 'Shed']\n",
      "RoofMatl:\t ['CompShg' 'WdShngl' 'Metal' 'WdShake' 'Membran' 'Tar&Grv' 'Roll' 'ClyTile']\n",
      "Exterior1st:\t ['VinylSd' 'MetalSd' 'Wd Sdng' 'HdBoard' 'BrkFace' 'WdShing' 'CemntBd'\n",
      " 'Plywood' 'AsbShng' 'Stucco' 'BrkComm' 'AsphShn' 'Stone' 'ImStucc'\n",
      " 'CBlock']\n",
      "Exterior2nd:\t ['VinylSd' 'MetalSd' 'Wd Shng' 'HdBoard' 'Plywood' 'Wd Sdng' 'CmentBd'\n",
      " 'BrkFace' 'Stucco' 'AsbShng' 'Brk Cmn' 'ImStucc' 'AsphShn' 'Stone' 'Other'\n",
      " 'CBlock']\n",
      "MasVnrType:\t ['BrkFace' 'None' 'Stone' 'BrkCmn' nan]\n",
      "ExterQual:\t ['Gd' 'TA' 'Ex' 'Fa']\n",
      "ExterCond:\t ['TA' 'Gd' 'Fa' 'Po' 'Ex']\n",
      "Foundation:\t ['PConc' 'CBlock' 'BrkTil' 'Wood' 'Slab' 'Stone']\n",
      "BsmtQual:\t ['Gd' 'TA' 'Ex' nan 'Fa']\n",
      "BsmtCond:\t ['TA' 'Gd' nan 'Fa' 'Po']\n",
      "BsmtExposure:\t ['No' 'Gd' 'Mn' 'Av' nan]\n",
      "BsmtFinType1:\t ['GLQ' 'ALQ' 'Unf' 'Rec' 'BLQ' nan 'LwQ']\n",
      "BsmtFinType2:\t ['Unf' 'BLQ' nan 'ALQ' 'Rec' 'LwQ' 'GLQ']\n",
      "Heating:\t ['GasA' 'GasW' 'Grav' 'Wall' 'OthW' 'Floor']\n",
      "HeatingQC:\t ['Ex' 'Gd' 'TA' 'Fa' 'Po']\n",
      "CentralAir:\t ['Y' 'N']\n",
      "Electrical:\t ['SBrkr' 'FuseF' 'FuseA' 'FuseP' 'Mix' nan]\n",
      "KitchenQual:\t ['Gd' 'TA' 'Ex' 'Fa']\n",
      "Functional:\t ['Typ' 'Min1' 'Maj1' 'Min2' 'Mod' 'Maj2' 'Sev']\n",
      "FireplaceQu:\t [nan 'TA' 'Gd' 'Fa' 'Ex' 'Po']\n",
      "GarageType:\t ['Attchd' 'Detchd' 'BuiltIn' 'CarPort' nan 'Basment' '2Types']\n",
      "GarageFinish:\t ['RFn' 'Unf' 'Fin' nan]\n",
      "GarageQual:\t ['TA' 'Fa' 'Gd' nan 'Ex' 'Po']\n",
      "GarageCond:\t ['TA' 'Fa' nan 'Gd' 'Po' 'Ex']\n",
      "PavedDrive:\t ['Y' 'N' 'P']\n",
      "PoolQC:\t [nan 'Ex' 'Fa' 'Gd']\n",
      "Fence:\t [nan 'MnPrv' 'GdWo' 'GdPrv' 'MnWw']\n",
      "MiscFeature:\t [nan 'Shed' 'Gar2' 'Othr' 'TenC']\n",
      "SaleType:\t ['WD' 'New' 'COD' 'ConLD' 'ConLI' 'CWD' 'ConLw' 'Con' 'Oth']\n",
      "SaleCondition:\t ['Normal' 'Abnorml' 'Partial' 'AdjLand' 'Alloca' 'Family']\n"
     ]
    }
   ],
   "source": [
    "categorical_var = X.dtypes[X.dtypes == object]\n",
    "\n",
    "print(\"Number of categorical features:\", len(categorical_var), \"\\n\")\n",
    "for f in categorical_var.index:\n",
    "    print(\"{}:\\t {}\".format(f, pd.unique(X[f])))"
   ]
  },
  {
   "cell_type": "code",
   "execution_count": 7,
   "metadata": {
    "collapsed": false,
    "scrolled": true
   },
   "outputs": [
    {
     "name": "stdout",
     "output_type": "stream",
     "text": [
      "(1460, 288)\n",
      "(1460, 285)\n"
     ]
    }
   ],
   "source": [
    "# Number of features after mapping of categorical features to numbers\n",
    "X2 = pd.get_dummies(X)\n",
    "print(X2.shape)\n",
    "\n",
    "# Drop na\n",
    "X2.dropna(axis=1, how='any', inplace=True)\n",
    "print(X2.shape)"
   ]
  },
  {
   "cell_type": "markdown",
   "metadata": {},
   "source": [
    "### Kaggle: Linear regression of only quantitative variables"
   ]
  },
  {
   "cell_type": "code",
   "execution_count": 8,
   "metadata": {
    "collapsed": false
   },
   "outputs": [
    {
     "data": {
      "text/plain": [
       "33"
      ]
     },
     "execution_count": 8,
     "metadata": {},
     "output_type": "execute_result"
    }
   ],
   "source": [
    "# Filter for only quantitative columns\n",
    "X_quant = X[(X.dtypes[X.dtypes!=object]).index]\n",
    "X_quant = X_quant.dropna(axis=1)\n",
    "X_quant.shape\n",
    "\n",
    "features = X_quant.columns\n",
    "len(features)"
   ]
  },
  {
   "cell_type": "code",
   "execution_count": 9,
   "metadata": {
    "collapsed": false
   },
   "outputs": [],
   "source": [
    "# Ensure test has features\n",
    "features_test = test[features].dropna(axis=1).columns\n"
   ]
  },
  {
   "cell_type": "code",
   "execution_count": 10,
   "metadata": {
    "collapsed": false
   },
   "outputs": [
    {
     "data": {
      "text/plain": [
       "25"
      ]
     },
     "execution_count": 10,
     "metadata": {},
     "output_type": "execute_result"
    }
   ],
   "source": [
    "# Unify features\n",
    "features = list(set(features).intersection(set(features_test)))\n",
    "len(features)"
   ]
  },
  {
   "cell_type": "code",
   "execution_count": 11,
   "metadata": {
    "collapsed": false
   },
   "outputs": [
    {
     "name": "stdout",
     "output_type": "stream",
     "text": [
      "The scores: [ 0.83387649  0.77871025  0.69953849]\n",
      "Accuracy: 0.77 (+/- 0.11)\n"
     ]
    }
   ],
   "source": [
    "clf = LinearRegression()\n",
    "scores = cross_val_score(clf, X_quant[features], y, cv=3)\n",
    "\n",
    "# Print scores\n",
    "print(\"The scores:\", scores)\n",
    "print(\"Accuracy: %0.2f (+/- %0.2f)\" % (scores.mean(), scores.std() * 2))"
   ]
  },
  {
   "cell_type": "code",
   "execution_count": 12,
   "metadata": {
    "collapsed": false
   },
   "outputs": [
    {
     "name": "stdout",
     "output_type": "stream",
     "text": [
      "[1]\n"
     ]
    }
   ],
   "source": [
    "clf = LinearRegression()\n",
    "clf.fit(X_quant[features], y)\n",
    "y_test = clf.predict(test[features])\n",
    "\n",
    "# Check that is not negative\n",
    "print(sum(y_test < 0))\n",
    "y_test[y_test<0] = 0\n",
    "\n",
    "# Submission\n",
    "predictions = pd.concat([test[\"Id\"], pd.DataFrame(y_test, columns=[\"SalePrice\"])], axis=1)\n",
    "predictions.to_csv(\"saleprice_submission-linreg-quant25.csv\", index=False)"
   ]
  },
  {
   "cell_type": "markdown",
   "metadata": {},
   "source": [
    "KAGGLE: 0.43803"
   ]
  },
  {
   "cell_type": "markdown",
   "metadata": {},
   "source": [
    "### Kaggle linear regression of one-hot + quantitative features"
   ]
  },
  {
   "cell_type": "code",
   "execution_count": 13,
   "metadata": {
    "collapsed": false
   },
   "outputs": [
    {
     "name": "stdout",
     "output_type": "stream",
     "text": [
      "The scores: [ 0.87766846  0.82330935  0.73942924]\n",
      "Accuracy: 0.81 (+/- 0.11)\n"
     ]
    }
   ],
   "source": [
    "clf = LinearRegression()\n",
    "scores = cross_val_score(clf, X2, y, cv=3)\n",
    "\n",
    "# Print scores\n",
    "print(\"The scores:\", scores)\n",
    "print(\"Accuracy: %0.2f (+/- %0.2f)\" % (scores.mean(), scores.std() * 2))"
   ]
  },
  {
   "cell_type": "code",
   "execution_count": 14,
   "metadata": {
    "collapsed": false
   },
   "outputs": [
    {
     "name": "stdout",
     "output_type": "stream",
     "text": [
      "259\n"
     ]
    }
   ],
   "source": [
    "# Transform test set\n",
    "test_dummies = pd.get_dummies(test).dropna(axis=1, how='any')\n",
    "common_features = list(set(X2.columns).intersection(set(test_dummies.columns)))\n",
    "common_features = [f for f in common_features if f != \"Id\"]\n",
    "print(len(common_features))"
   ]
  },
  {
   "cell_type": "code",
   "execution_count": 15,
   "metadata": {
    "collapsed": false
   },
   "outputs": [
    {
     "name": "stdout",
     "output_type": "stream",
     "text": [
      "The scores: [ 0.85407967  0.80668306  0.74405846]\n",
      "Accuracy: 0.80 (+/- 0.09)\n"
     ]
    }
   ],
   "source": [
    "clf = LinearRegression()\n",
    "scores = cross_val_score(clf, X2[common_features], y, cv=3)\n",
    "\n",
    "# Print scores\n",
    "print(\"The scores:\", scores)\n",
    "print(\"Accuracy: %0.2f (+/- %0.2f)\" % (scores.mean(), scores.std() * 2))"
   ]
  },
  {
   "cell_type": "code",
   "execution_count": 16,
   "metadata": {
    "collapsed": false
   },
   "outputs": [
    {
     "name": "stdout",
     "output_type": "stream",
     "text": [
      "[1]\n"
     ]
    }
   ],
   "source": [
    "# Make prediction\n",
    "clf = LinearRegression()\n",
    "clf.fit(X2[common_features], y)\n",
    "y_test = clf.predict(test_dummies[common_features])\n",
    "\n",
    "# Check that is not negative\n",
    "print(sum(y_test < 0))\n",
    "y_test[y_test<0] = 0\n",
    "\n",
    "# Submission\n",
    "predictions = pd.concat([test[\"Id\"], pd.DataFrame(y_test, columns=[\"SalePrice\"])], axis=1)\n",
    "predictions.to_csv(\"saleprice_submission-linreg-all259.csv\", index=False)"
   ]
  },
  {
   "cell_type": "markdown",
   "metadata": {},
   "source": [
    "KAGGLE: Your submission scored 0.45646"
   ]
  },
  {
   "cell_type": "code",
   "execution_count": 17,
   "metadata": {
    "collapsed": false
   },
   "outputs": [
    {
     "data": {
      "text/plain": [
       "<matplotlib.axes._subplots.AxesSubplot at 0x1179b19b0>"
      ]
     },
     "execution_count": 17,
     "metadata": {},
     "output_type": "execute_result"
    },
    {
     "data": {
      "image/png": "[encoded data removed]",
      "text/plain": [
       "<matplotlib.figure.Figure at 0x117965908>"
      ]
     },
     "metadata": {},
     "output_type": "display_data"
    }
   ],
   "source": [
    "predictions[[\"SalePrice\"]].plot()"
   ]
  }
 ],
 "metadata": {
  "kernelspec": {
   "display_name": "Python 3",
   "language": "python",
   "name": "python3"
  },
  "language_info": {
   "codemirror_mode": {
    "name": "ipython",
    "version": 3
   },
   "file_extension": ".py",
   "mimetype": "text/x-python",
   "name": "python",
   "nbconvert_exporter": "python",
   "pygments_lexer": "ipython3",
   "version": "3.6.0"
  }
 },
 "nbformat": 4,
 "nbformat_minor": 2
}
