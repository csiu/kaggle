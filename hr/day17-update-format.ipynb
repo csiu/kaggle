{
 "cells": [
  {
   "cell_type": "code",
   "execution_count": 1,
   "metadata": {
    "collapsed": false
   },
   "outputs": [
    {
     "name": "stdout",
     "output_type": "stream",
     "text": [
      "satisfaction_level,last_evaluation,number_project,average_montly_hours,time_spend_company,Work_accident,left,promotion_last_5years,sales,salary\r",
      "\r\n",
      "0.38,0.53,2,157,3,0,1,0,sales,low\r",
      "\r\n",
      "0.8,0.86,5,262,6,0,1,0,sales,medium\r",
      "\r\n",
      "0.11,0.88,7,272,4,0,1,0,sales,medium\r",
      "\r\n",
      "0.72,0.87,5,223,5,0,1,0,sales,low\r",
      "\r\n",
      "0.37,0.52,2,159,3,0,1,0,sales,low\r",
      "\r\n",
      "0.41,0.5,2,153,3,0,1,0,sales,low\r",
      "\r\n",
      "0.1,0.77,6,247,4,0,1,0,sales,low\r",
      "\r\n",
      "0.92,0.85,5,259,5,0,1,0,sales,low\r",
      "\r\n",
      "0.89,1,5,224,5,0,1,0,sales,low\r",
      "\r\n"
     ]
    }
   ],
   "source": [
    "!head HR_comma_sep.csv"
   ]
  },
  {
   "cell_type": "code",
   "execution_count": 20,
   "metadata": {
    "collapsed": false
   },
   "outputs": [],
   "source": [
    "with open(\"import-me.csv\", 'w') as out:\n",
    "    with open(\"HR_comma_sep.csv\") as f:\n",
    "        for line in f:\n",
    "            line = line.strip().split(\",\")\n",
    "            line = ','.join(line[:5] + ['\"'+i+'\"' for i in line[5:]]) + '\\n'\n",
    "            out.write(line)"
   ]
  },
  {
   "cell_type": "code",
   "execution_count": 21,
   "metadata": {
    "collapsed": false
   },
   "outputs": [
    {
     "name": "stdout",
     "output_type": "stream",
     "text": [
      "satisfaction_level,last_evaluation,number_project,average_montly_hours,time_spend_company,\"Work_accident\",\"left\",\"promotion_last_5years\",\"sales\",\"salary\"\r\n",
      "0.38,0.53,2,157,3,\"0\",\"1\",\"0\",\"sales\",\"low\"\r\n",
      "0.8,0.86,5,262,6,\"0\",\"1\",\"0\",\"sales\",\"medium\"\r\n",
      "0.11,0.88,7,272,4,\"0\",\"1\",\"0\",\"sales\",\"medium\"\r\n",
      "0.72,0.87,5,223,5,\"0\",\"1\",\"0\",\"sales\",\"low\"\r\n",
      "0.37,0.52,2,159,3,\"0\",\"1\",\"0\",\"sales\",\"low\"\r\n",
      "0.41,0.5,2,153,3,\"0\",\"1\",\"0\",\"sales\",\"low\"\r\n",
      "0.1,0.77,6,247,4,\"0\",\"1\",\"0\",\"sales\",\"low\"\r\n",
      "0.92,0.85,5,259,5,\"0\",\"1\",\"0\",\"sales\",\"low\"\r\n",
      "0.89,1,5,224,5,\"0\",\"1\",\"0\",\"sales\",\"low\"\r\n"
     ]
    }
   ],
   "source": [
    "!head import-me.csv"
   ]
  }
 ],
 "metadata": {
  "kernelspec": {
   "display_name": "Python 3",
   "language": "python",
   "name": "python3"
  },
  "language_info": {
   "codemirror_mode": {
    "name": "ipython",
    "version": 3
   },
   "file_extension": ".py",
   "mimetype": "text/x-python",
   "name": "python",
   "nbconvert_exporter": "python",
   "pygments_lexer": "ipython3",
   "version": "3.6.0"
  }
 },
 "nbformat": 4,
 "nbformat_minor": 2
}
